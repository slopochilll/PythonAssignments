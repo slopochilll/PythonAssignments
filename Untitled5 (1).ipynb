{
 "cells": [
  {
   "cell_type": "code",
   "execution_count": 1,
   "id": "20025095",
   "metadata": {},
   "outputs": [
    {
     "name": "stdout",
     "output_type": "stream",
     "text": [
      "enter the number2\n",
      "a is positive\n"
     ]
    }
   ],
   "source": [
    "#ANS 1)\n",
    "\n",
    "a=int(input(\"enter the number\"))\n",
    "if(a<0):\n",
    "    print(\"a is negative\")\n",
    "elif(a>0):\n",
    "    print(\"a is positive\")\n",
    "else:\n",
    "    print(\"a is 0\")"
   ]
  },
  {
   "cell_type": "code",
   "execution_count": 2,
   "id": "055c79c1",
   "metadata": {},
   "outputs": [
    {
     "name": "stdout",
     "output_type": "stream",
     "text": [
      "enter a nummber-4\n",
      "number is even\n"
     ]
    }
   ],
   "source": [
    "#ANS 2)\n",
    "a=int(input(\"enter a nummber\"))\n",
    "if(a%2==0):\n",
    "    print(\"number is even\")\n",
    "else:\n",
    "    print(\"number is odd\")"
   ]
  },
  {
   "cell_type": "code",
   "execution_count": 3,
   "id": "27cc6565",
   "metadata": {},
   "outputs": [
    {
     "name": "stdout",
     "output_type": "stream",
     "text": [
      "enter a valid year2000\n",
      "this is a leap year\n"
     ]
    }
   ],
   "source": [
    "#ANS 3)\n",
    "a=int(input(\"enter a valid year\"))\n",
    "if((a%400==0)or(a%4==0)and(a%100 != 0)):\n",
    "    print(\"this is a leap year\")\n",
    "else:\n",
    "    print(\"not a leap year\")"
   ]
  },
  {
   "cell_type": "code",
   "execution_count": null,
   "id": "687d3bd9",
   "metadata": {},
   "outputs": [],
   "source": [
    "#ANS 4)\n",
    "a=int(input(\"enter the number\"))\n",
    "def prime(num):\n",
    "    for i in range(2,num):\n",
    "        if(a%i==0):\n",
    "            return False\n",
    "        else:\n",
    "            return True\n",
    "prime(a)\n"
   ]
  },
  {
   "cell_type": "code",
   "execution_count": null,
   "id": "a0719dbb",
   "metadata": {},
   "outputs": [],
   "source": [
    "#ANS 5)\n",
    "for i in range(1,10001):\n",
    "    for j in range (2,i):\n",
    "        if(i%j==0):\n",
    "            break\n",
    "        else:\n",
    "            print(i)\n",
    "            \n"
   ]
  }
 ],
 "metadata": {
  "kernelspec": {
   "display_name": "Python 3",
   "language": "python",
   "name": "python3"
  },
  "language_info": {
   "codemirror_mode": {
    "name": "ipython",
    "version": 3
   },
   "file_extension": ".py",
   "mimetype": "text/x-python",
   "name": "python",
   "nbconvert_exporter": "python",
   "pygments_lexer": "ipython3",
   "version": "3.8.8"
  }
 },
 "nbformat": 4,
 "nbformat_minor": 5
}

{
 "cells": [
  {
   "cell_type": "markdown",
   "id": "0f8eb3f4",
   "metadata": {},
   "source": [
    "Ans 1) Functions make our code reuseable and increase the effeciency."
   ]
  },
  {
   "cell_type": "markdown",
   "id": "6bf66ee4",
   "metadata": {},
   "source": [
    "Ans 2)The function is run only when it is called."
   ]
  },
  {
   "cell_type": "markdown",
   "id": "e1ea3f5f",
   "metadata": {},
   "source": [
    "Ans 3) we use the def keyword to initialize a function then we write the function name and pass the parameters of the function          inside parenthesis and use ':' to define the fucntions scope, eg-       def functionname(value1 , value2):"
   ]
  },
  {
   "cell_type": "markdown",
   "id": "fcfcb9cd",
   "metadata": {},
   "source": [
    "Ans 4) A function is a block of code used to perform a certain task , a function is used in two parts , the first part is              defining the function and the second part is calling the fucntion. \n",
    "       When we call a fucntion we pass he control to that fucntion and the argument inside it gets executed, eg- functionname(). \n"
   ]
  },
  {
   "cell_type": "markdown",
   "id": "f73e187f",
   "metadata": {},
   "source": [
    "Ans 5)There is only one global scope in any python program , however there can be as many local scopes as there are number of         code blocks."
   ]
  },
  {
   "cell_type": "markdown",
   "id": "1b6cd2c7",
   "metadata": {},
   "source": [
    "Ans 6) Once the function call is returned and terminated the local scope also gets terminated along with it.\n"
   ]
  },
  {
   "cell_type": "markdown",
   "id": "2aca4ed1",
   "metadata": {},
   "source": [
    "Ans 7) A return statement is used to end the execution of the function call and returns the result of the function execution."
   ]
  },
  {
   "cell_type": "markdown",
   "id": "ba52ad7c",
   "metadata": {},
   "source": [
    "Ans 8) If a function has no return statement it will return None value after it has been called."
   ]
  },
  {
   "cell_type": "markdown",
   "id": "d77462c3",
   "metadata": {},
   "source": [
    "Ans 9) It can be done by using the global keyword "
   ]
  },
  {
   "cell_type": "markdown",
   "id": "e147d3b7",
   "metadata": {},
   "source": [
    "Ans 10)None has the datatype none and it is an object."
   ]
  },
  {
   "cell_type": "markdown",
   "id": "d8643f5b",
   "metadata": {},
   "source": [
    "Ans 11) It imports a module named 'areallyourpetsnamederic'."
   ]
  },
  {
   "cell_type": "markdown",
   "id": "e623cae2",
   "metadata": {},
   "source": [
    "Ans 12) We can import it by first importing the modlue and then importing the feature from the module, \n",
    "        eg-        import spam\n",
    "                   import bacon from spam"
   ]
  },
  {
   "cell_type": "markdown",
   "id": "40adca2d",
   "metadata": {},
   "source": [
    "Ans 13) It can de done by using try and except statements."
   ]
  },
  {
   "cell_type": "markdown",
   "id": "4a64395d",
   "metadata": {},
   "source": [
    "Ans 14) Try clause is used to return the output of the actual operation being performed , however if we encounter an exception           in the given operation then we use except clause to end the processing without crashing the program.\n",
    "        \n",
    "        def add(a,b):\n",
    "          print(a+b)\n",
    "        \n",
    "        now if we pass a null value in place of either a or b we will get an error and the program will crash , but when we use         try and except as follows-\n",
    "        \n",
    "        def add(a,b):\n",
    "         try:\n",
    "           return a+b\n",
    "         except Exception as c:\n",
    "           print ('error'+c)\n",
    "         \n",
    "         here we first try to return a+b but if an exception occurs in the execution then we tell the program to store the                exception in variable c and print the error, so the function returns the error rather than crashing the program ."
   ]
  }
 ],
 "metadata": {
  "kernelspec": {
   "display_name": "Python 3",
   "language": "python",
   "name": "python3"
  },
  "language_info": {
   "codemirror_mode": {
    "name": "ipython",
    "version": 3
   },
   "file_extension": ".py",
   "mimetype": "text/x-python",
   "name": "python",
   "nbconvert_exporter": "python",
   "pygments_lexer": "ipython3",
   "version": "3.8.8"
  }
 },
 "nbformat": 4,
 "nbformat_minor": 5
}

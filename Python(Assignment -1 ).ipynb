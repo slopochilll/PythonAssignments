{
 "cells": [
  {
   "cell_type": "markdown",
   "id": "8ccc0d9f",
   "metadata": {},
   "source": [
    "# Assingment 1"
   ]
  },
  {
   "cell_type": "markdown",
   "id": "25bd574e",
   "metadata": {},
   "source": [
    "Ans 1) *          - expression \n",
    "      'hello'     - value \n",
    "      -87.8       - value \n",
    "      -           - expression\n",
    "      /           - expression \n",
    "      +           - expression\n",
    "      6           - value "
   ]
  },
  {
   "cell_type": "markdown",
   "id": "f31a55a1",
   "metadata": {},
   "source": [
    "Ans 2) A variable is used to store values and hecne can be reassigned, that is a variable x can be used to store both 10 and 20        integers, it acts as a lable or it's the address of the actual value  . However a string, let's say 'hello' is uneditable        , and cannot be used to store soemthing else , hello will always mean and store hello, it's immutable."
   ]
  },
  {
   "cell_type": "markdown",
   "id": "887009eb",
   "metadata": {},
   "source": [
    "Ans 3) Integers - Integer data type is used to store integer value from -2147483648 to 2147483647 .\n",
    "       Boolean  - Boolean data type is used to store only true and flase values and it dose not store anything else.\n",
    "       String   - String data type stores contagious set of characters."
   ]
  },
  {
   "cell_type": "markdown",
   "id": "4cf021ad",
   "metadata": {},
   "source": [
    "Ans 4 ) Expressions are made up of operations and they always return a value , like a output or result.\n"
   ]
  },
  {
   "cell_type": "markdown",
   "id": "75b547c6",
   "metadata": {},
   "source": [
    "Ans 5) An expression can be a operation or a function it has one condition, that is , it always returns a value . A statement          however can never return a result."
   ]
  },
  {
   "cell_type": "markdown",
   "id": "542d62dc",
   "metadata": {},
   "source": [
    "Ans 6) 23"
   ]
  },
  {
   "cell_type": "markdown",
   "id": "3e79273d",
   "metadata": {},
   "source": [
    "Ans 7)spamspamspam\n",
    "      spamspamspam"
   ]
  },
  {
   "cell_type": "markdown",
   "id": "2082e1a4",
   "metadata": {},
   "source": [
    "Ans 8) eggs is a valid name because it dosen't have a pre-defined vaule in python, whereas 100 is automatically identified by            python as a integer and hence we cannot assign a fifferent value to it."
   ]
  },
  {
   "cell_type": "markdown",
   "id": "ca72f3ba",
   "metadata": {},
   "source": [
    "Ans 9) int() is used to get int value ,\n",
    "       float() to get float value,\n",
    "       str() is used to get string value.\n",
    "       "
   ]
  },
  {
   "cell_type": "markdown",
   "id": "7a64c31d",
   "metadata": {},
   "source": [
    "Ans 10) We will get an error because we are trying to add string with integer value , it can be fixed by writing the code as            follows:- \n",
    "          'i ate' + str(99)+ ' burritos'"
   ]
  }
 ],
 "metadata": {
  "kernelspec": {
   "display_name": "Python 3",
   "language": "python",
   "name": "python3"
  },
  "language_info": {
   "codemirror_mode": {
    "name": "ipython",
    "version": 3
   },
   "file_extension": ".py",
   "mimetype": "text/x-python",
   "name": "python",
   "nbconvert_exporter": "python",
   "pygments_lexer": "ipython3",
   "version": "3.8.8"
  }
 },
 "nbformat": 4,
 "nbformat_minor": 5
}

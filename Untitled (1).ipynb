{
 "cells": [
  {
   "cell_type": "markdown",
   "id": "c558d828",
   "metadata": {},
   "source": [
    "ANS 1) [] is used to contain the elements of a list."
   ]
  },
  {
   "cell_type": "code",
   "execution_count": null,
   "id": "4a03338c",
   "metadata": {},
   "outputs": [],
   "source": [
    "#ANS 2)\n",
    "        spam=[2,4,6,8,10]\n",
    "        spam.insert(2,'hello')"
   ]
  },
  {
   "cell_type": "markdown",
   "id": "354ffe10",
   "metadata": {},
   "source": [
    "ANS 3) Error"
   ]
  },
  {
   "cell_type": "markdown",
   "id": "e12239a7",
   "metadata": {},
   "source": [
    "ANS 4) d"
   ]
  },
  {
   "cell_type": "markdown",
   "id": "1c043dc8",
   "metadata": {},
   "source": [
    "ANS 5) ['a','b']"
   ]
  },
  {
   "cell_type": "markdown",
   "id": "a9e606f9",
   "metadata": {},
   "source": [
    "ANS 6) 1"
   ]
  },
  {
   "cell_type": "markdown",
   "id": "f9457a74",
   "metadata": {},
   "source": [
    "ANS 7)  [3.14,'cat,11,'cat',True,99]"
   ]
  },
  {
   "cell_type": "markdown",
   "id": "118c9ab4",
   "metadata": {},
   "source": [
    "ANS 8) [3.14,11,'cat',True,99]"
   ]
  },
  {
   "cell_type": "markdown",
   "id": "78a2f280",
   "metadata": {},
   "source": [
    "ANS 9) list concatination is used to join two seperate lists whereas list replication is used to copy a list."
   ]
  },
  {
   "cell_type": "markdown",
   "id": "a72e5c6a",
   "metadata": {},
   "source": [
    "ANS 10) both append() and insert() are used to add elements in lists ,however when we use append() it adds the new element             element at n+1 th index (for a list of n elements), whereas we have to specify the index where we want to add the               elements."
   ]
  },
  {
   "cell_type": "markdown",
   "id": "886b5280",
   "metadata": {},
   "source": [
    "ANS 11) remove() and pop() are two methods used for this purpose."
   ]
  },
  {
   "cell_type": "markdown",
   "id": "d389da3b",
   "metadata": {},
   "source": [
    "ANS 12) Both list and strings are indexed in a sequence."
   ]
  },
  {
   "cell_type": "markdown",
   "id": "2f5f2efb",
   "metadata": {},
   "source": [
    "ANS 13) Lists are mutable whereas tuples are immutable "
   ]
  },
  {
   "cell_type": "markdown",
   "id": "40020a98",
   "metadata": {},
   "source": [
    "ANS 14) a= (42)"
   ]
  },
  {
   "cell_type": "code",
   "execution_count": null,
   "id": "8da75c60",
   "metadata": {},
   "outputs": [],
   "source": [
    "#ANS 15)\n",
    "        a=[1,2,3]\n",
    "        z=tuple(a)\n",
    "        \n",
    "        b=(4,5,6)\n",
    "        x=list(b)\n",
    "        "
   ]
  },
  {
   "cell_type": "markdown",
   "id": "bbee37f7",
   "metadata": {},
   "source": [
    "ANS 16) The variable actually contain the address of the list "
   ]
  },
  {
   "cell_type": "markdown",
   "id": "a8efba8c",
   "metadata": {},
   "source": [
    "ANS 17).copy() is used to copy the elements of a list into another variable , .deepcopy() is used to store the copy of a copy          at a new variable"
   ]
  }
 ],
 "metadata": {
  "kernelspec": {
   "display_name": "Python 3",
   "language": "python",
   "name": "python3"
  },
  "language_info": {
   "codemirror_mode": {
    "name": "ipython",
    "version": 3
   },
   "file_extension": ".py",
   "mimetype": "text/x-python",
   "name": "python",
   "nbconvert_exporter": "python",
   "pygments_lexer": "ipython3",
   "version": "3.8.8"
  }
 },
 "nbformat": 4,
 "nbformat_minor": 5
}

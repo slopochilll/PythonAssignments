{
 "cells": [
  {
   "cell_type": "code",
   "execution_count": null,
   "id": "fe762355",
   "metadata": {},
   "outputs": [],
   "source": [
    "#ANS 1) \n",
    "         DICT = {}"
   ]
  },
  {
   "cell_type": "code",
   "execution_count": null,
   "id": "749493b5",
   "metadata": {},
   "outputs": [],
   "source": [
    "#ANS 2) \n",
    "       a={\"foo\":42}"
   ]
  },
  {
   "cell_type": "markdown",
   "id": "8614364e",
   "metadata": {},
   "source": [
    "ANS 3) A dictionary stores values in key-value pair whereas a list stores indivisual elements. "
   ]
  },
  {
   "cell_type": "markdown",
   "id": "18761318",
   "metadata": {},
   "source": [
    "ANS 4) We get a compile time error saying \"dict object is not callable\"."
   ]
  },
  {
   "cell_type": "markdown",
   "id": "9c099b73",
   "metadata": {},
   "source": [
    "ANS 5) The expression 'cat' in spam means we are looking for a key named cat in spam dictionary by default ,whereas the expression 'cat' in spam.keys() means we specifically want to look for a key named 'cat' in the spam dictionary."
   ]
  },
  {
   "cell_type": "markdown",
   "id": "0df0dbe1",
   "metadata": {},
   "source": [
    "ANS 6) The expression 'cat' in spam means we are looking for a key named cat in spam dictionary by default ,whereas the expression 'cat' in spam.values() means we specifically want to look for a value named 'cat' in the spam dictionary."
   ]
  },
  {
   "cell_type": "code",
   "execution_count": 1,
   "id": "823ab4da",
   "metadata": {},
   "outputs": [
    {
     "ename": "IndentationError",
     "evalue": "unexpected indent (<ipython-input-1-1f166702ea7c>, line 2)",
     "output_type": "error",
     "traceback": [
      "\u001b[1;36m  File \u001b[1;32m\"<ipython-input-1-1f166702ea7c>\"\u001b[1;36m, line \u001b[1;32m2\u001b[0m\n\u001b[1;33m    if 'color' not in spam.keys():\u001b[0m\n\u001b[1;37m    ^\u001b[0m\n\u001b[1;31mIndentationError\u001b[0m\u001b[1;31m:\u001b[0m unexpected indent\n"
     ]
    }
   ],
   "source": [
    "#ANS 7)\n",
    "       if 'color' not in spam.keys():\n",
    "        spam['color']='black'"
   ]
  },
  {
   "cell_type": "markdown",
   "id": "b0e81d07",
   "metadata": {},
   "source": [
    "ANS 8) Using Json.dumps()"
   ]
  }
 ],
 "metadata": {
  "kernelspec": {
   "display_name": "Python 3",
   "language": "python",
   "name": "python3"
  },
  "language_info": {
   "codemirror_mode": {
    "name": "ipython",
    "version": 3
   },
   "file_extension": ".py",
   "mimetype": "text/x-python",
   "name": "python",
   "nbconvert_exporter": "python",
   "pygments_lexer": "ipython3",
   "version": "3.8.8"
  }
 },
 "nbformat": 4,
 "nbformat_minor": 5
}

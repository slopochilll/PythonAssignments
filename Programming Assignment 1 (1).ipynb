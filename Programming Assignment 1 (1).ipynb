{
 "cells": [
  {
   "cell_type": "code",
   "execution_count": null,
   "id": "9cdb3b17",
   "metadata": {},
   "outputs": [],
   "source": [
    "#ANS 1)\n",
    "       print(\"Hello World\")"
   ]
  },
  {
   "cell_type": "code",
   "execution_count": 3,
   "id": "a1f829ae",
   "metadata": {},
   "outputs": [
    {
     "name": "stdout",
     "output_type": "stream",
     "text": [
      "30 2.0\n"
     ]
    }
   ],
   "source": [
    "#ANS 2)\n",
    "a=10\n",
    "b=20\n",
    "c=a+b\n",
    "d=b/a\n",
    "print(c,d)"
   ]
  },
  {
   "cell_type": "code",
   "execution_count": 5,
   "id": "34979f2a",
   "metadata": {},
   "outputs": [],
   "source": [
    "#ANS 3)\n",
    "height = 10\n",
    "base =5\n",
    "area = 0.5*base*height"
   ]
  },
  {
   "cell_type": "code",
   "execution_count": null,
   "id": "06576573",
   "metadata": {},
   "outputs": [],
   "source": [
    "#ANS 4)\n",
    "a=10\n",
    "b=20\n",
    "a,b=b,a"
   ]
  },
  {
   "cell_type": "code",
   "execution_count": 13,
   "id": "96deb605",
   "metadata": {},
   "outputs": [
    {
     "data": {
      "text/plain": [
       "7"
      ]
     },
     "execution_count": 13,
     "metadata": {},
     "output_type": "execute_result"
    }
   ],
   "source": [
    "#ANS 5)\n",
    "import random\n",
    "list=[1,2,3,4,5,5,67,76,34]\n",
    "random.choice(lists)\n",
    "    "
   ]
  }
 ],
 "metadata": {
  "kernelspec": {
   "display_name": "Python 3",
   "language": "python",
   "name": "python3"
  },
  "language_info": {
   "codemirror_mode": {
    "name": "ipython",
    "version": 3
   },
   "file_extension": ".py",
   "mimetype": "text/x-python",
   "name": "python",
   "nbconvert_exporter": "python",
   "pygments_lexer": "ipython3",
   "version": "3.8.8"
  }
 },
 "nbformat": 4,
 "nbformat_minor": 5
}

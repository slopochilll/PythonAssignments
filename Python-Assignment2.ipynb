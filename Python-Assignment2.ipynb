{
 "cells": [
  {
   "cell_type": "markdown",
   "id": "61dd7372",
   "metadata": {},
   "source": [
    "Ans 1) True and False , Boolean data type has only two values and are mostly used to check conditions as True or False."
   ]
  },
  {
   "cell_type": "markdown",
   "id": "bd5002c5",
   "metadata": {},
   "source": [
    "Ans 2) AND,OR and NOT"
   ]
  },
  {
   "cell_type": "markdown",
   "id": "210a741f",
   "metadata": {},
   "source": [
    "Ans 3)   INPUT1    INPUT2        AND          OR             NOT\n",
    "\n",
    "          T        T          T          T              -\n",
    "          \n",
    "          T        F          F          T              -\n",
    "          \n",
    "          F        T          F          T              -\n",
    "          \n",
    "          F        F          F          F              -\n",
    "          -------------------------------------------------\n",
    "          \n",
    "          NOT operator give True(1) output for False(0) input and False(0) output for True(1) input."
   ]
  },
  {
   "cell_type": "markdown",
   "id": "723ce329",
   "metadata": {},
   "source": [
    "Ans 4) a) True and False = False\n",
    "        \n",
    "       b) not True = False\n",
    "       \n",
    "       c) True or False = True\n",
    "       \n",
    "       d) not ((True) or (False)) = not(True) = False\n",
    "       \n",
    "       e) (True) and (False) = False\n",
    "       \n",
    "       f) (True) or (False) = True"
   ]
  },
  {
   "cell_type": "markdown",
   "id": "ed40e527",
   "metadata": {},
   "source": [
    "Ans 5) Equal to operator              -    \"==\"\n",
    "       Not Equal to operator          -    \"!=\"\n",
    "       Greater Than                   -    \">\"\n",
    "       Less    Than                   -    \"<\"\n",
    "       Less Than or equal             -    \"<=\"\n",
    "       Greater Than or equal          -    \">=\""
   ]
  },
  {
   "cell_type": "markdown",
   "id": "55306af4",
   "metadata": {},
   "source": [
    "Ans 6) The assignment operator '=' is used to store/ allocate one value to the other , eg- a=2 here we store int value 2 in            variable a. Whereas the equal to operator '==' is used to check if the two values are equal or not , eg- a==3 here we            check if the value stored in variable a is equal to int 3 or not , the equal to operator gives Boolean value True or            False as an output."
   ]
  },
  {
   "cell_type": "markdown",
   "id": "dd127af4",
   "metadata": {},
   "source": [
    "Ans 7) BLOCK 1\n",
    "       -------------\n",
    "       if spam == 10:\n",
    "       print('eggs')\n",
    "       --------------\n",
    "       \n",
    "       BLOCK 2\n",
    "       --------------\n",
    "       if spam > 5:\n",
    "       print('bacon')\n",
    "       --------------\n",
    "       \n",
    "       BLOCK 3\n",
    "       --------------\n",
    "       else:\n",
    "       print('ham')\n",
    "       print('spam')\n",
    "       print('spam')\n",
    "       \n",
    "      ---------------"
   ]
  },
  {
   "cell_type": "code",
   "execution_count": null,
   "id": "6391c8a9",
   "metadata": {},
   "outputs": [],
   "source": [
    "#Ans 8) \n",
    "         \n",
    "if spam == 1:\n",
    "    print(\"Hello\")\n",
    "elif spam == 2:\n",
    "    print(\"Howdy\")\n",
    "else :\n",
    "    print(\"Greetings!\")\n",
    "      "
   ]
  },
  {
   "cell_type": "markdown",
   "id": "b2d070e9",
   "metadata": {},
   "source": [
    "Ans 9) We can press Ctrl + C to provide an external interruption and exit the loop."
   ]
  },
  {
   "cell_type": "markdown",
   "id": "f1c76679",
   "metadata": {},
   "source": [
    "Ans 10) If a break statement is used inside a loop it will terminate the current loop(the loop in which the break statement is           used) and exits that loop , whereas if a continue statement is used inside a loop it does not terminate the loop, rather         it skips to the next loop and starts execution from that loop."
   ]
  },
  {
   "cell_type": "markdown",
   "id": "339d4917",
   "metadata": {},
   "source": [
    "Ans 11) In range(10) we only provide the stopping index hence the list will be traversed from the starting index(which is the           0th in python) to the 10th index.\n",
    "        In range(0,10) we provide the starting index (0th) as well as the ending index (10th) ,hence the list will be traversed         starting from 0th index till 10th index.\n",
    "        In range(0,10,1) we provide the starting index, stopping index as well as the step value, the step value tells the program to skip every other index."
   ]
  },
  {
   "cell_type": "code",
   "execution_count": null,
   "id": "8674d380",
   "metadata": {},
   "outputs": [],
   "source": [
    "#Ans 12)\n",
    "for i in range (1,11):\n",
    "    print(i)\n",
    "    \n",
    "while(i<11):\n",
    "    print(i)\n",
    "    i++\n",
    "        "
   ]
  },
  {
   "cell_type": "markdown",
   "id": "d8e2faa6",
   "metadata": {},
   "source": [
    "Ans 13) import spam\n",
    "        \n",
    "        bacon(parameters if any)\n",
    "        "
   ]
  }
 ],
 "metadata": {
  "kernelspec": {
   "display_name": "Python 3",
   "language": "python",
   "name": "python3"
  },
  "language_info": {
   "codemirror_mode": {
    "name": "ipython",
    "version": 3
   },
   "file_extension": ".py",
   "mimetype": "text/x-python",
   "name": "python",
   "nbconvert_exporter": "python",
   "pygments_lexer": "ipython3",
   "version": "3.8.8"
  }
 },
 "nbformat": 4,
 "nbformat_minor": 5
}
